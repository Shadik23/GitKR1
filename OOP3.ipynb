{
  "nbformat": 4,
  "nbformat_minor": 0,
  "metadata": {
    "colab": {
      "provenance": []
    },
    "kernelspec": {
      "name": "python3",
      "display_name": "Python 3"
    },
    "language_info": {
      "name": "python"
    }
  },
  "cells": [
    {
      "cell_type": "code",
      "execution_count": null,
      "metadata": {
        "id": "eaC0DEum9zVy"
      },
      "outputs": [],
      "source": [
        "class Shape(object):\n",
        "  def __init__(self):\n",
        "    self._position = ''\n",
        "    self._scale = ''\n",
        "    self._color = ''\n",
        "\n",
        "  def set_position(self, position):\n",
        "    self._position = position\n",
        "\n",
        "  def get_position(self):\n",
        "    return self._position\n",
        "\n",
        "  def set_scale(self, scale):\n",
        "    self._scale = scale\n",
        "\n",
        "  def get_scale(self):\n",
        "    return self._scale\n",
        "\n",
        "  def set_color(self, color):\n",
        "    self._color = color\n",
        "\n",
        "  def get_color(self):\n",
        "    return self._color\n",
        "\n",
        "\n",
        "  def info(self):\n",
        "    print(f'Координаты: {self._position}, Размер: {self._scale}, Цвет: {self._color}')\n",
        "\n"
      ]
    },
    {
      "cell_type": "code",
      "source": [
        "class Rectangle(Shape):\n",
        "  def __init__(self):\n",
        "    super().__init__()\n",
        "    self._side1 = ''\n",
        "    self._side2 = ''\n",
        "    \n",
        "  def set_side1(self, side1):\n",
        "    self._side1 = side1\n",
        "      \n",
        "  def get_side1(self):\n",
        "    return self._side1\n",
        "        \n",
        "  def set_side2(self, side2):\n",
        "    self._side2 = side2\n",
        "        \n",
        "  def get_side2(self):\n",
        "    return self._side2\n",
        "\n",
        "  def info(self):\n",
        "\n",
        "    super().info()\n",
        "    print(f'Сторона 1: {self._side1}, Сторона2: {self._side2}')\n"
      ],
      "metadata": {
        "id": "wWRG6TQ0CcRs"
      },
      "execution_count": null,
      "outputs": []
    },
    {
      "cell_type": "code",
      "source": [
        "math = Rectangle()\n",
        "math.set_position(10)\n",
        "math.set_scale(15)\n",
        "math.set_color(\"Красный\")\n",
        "math.set_side1(5)\n",
        "math.set_side2(5)"
      ],
      "metadata": {
        "colab": {
          "base_uri": "https://localhost:8080/",
          "height": 226
        },
        "id": "mLAZguPLCbqH",
        "outputId": "c5b1a6eb-3919-44ed-ff91-ea43f1d96c57"
      },
      "execution_count": null,
      "outputs": [
        {
          "output_type": "error",
          "ename": "AttributeError",
          "evalue": "ignored",
          "traceback": [
            "\u001b[0;31m---------------------------------------------------------------------------\u001b[0m",
            "\u001b[0;31mAttributeError\u001b[0m                            Traceback (most recent call last)",
            "\u001b[0;32m<ipython-input-21-8eb606744413>\u001b[0m in \u001b[0;36m<module>\u001b[0;34m\u001b[0m\n\u001b[1;32m      3\u001b[0m \u001b[0mmath\u001b[0m\u001b[0;34m.\u001b[0m\u001b[0mset_scale\u001b[0m\u001b[0;34m(\u001b[0m\u001b[0;36m15\u001b[0m\u001b[0;34m)\u001b[0m\u001b[0;34m\u001b[0m\u001b[0;34m\u001b[0m\u001b[0m\n\u001b[1;32m      4\u001b[0m \u001b[0mmath\u001b[0m\u001b[0;34m.\u001b[0m\u001b[0mset_color\u001b[0m\u001b[0;34m(\u001b[0m\u001b[0;34m\"Красный\"\u001b[0m\u001b[0;34m)\u001b[0m\u001b[0;34m\u001b[0m\u001b[0;34m\u001b[0m\u001b[0m\n\u001b[0;32m----> 5\u001b[0;31m \u001b[0mmath\u001b[0m\u001b[0;34m.\u001b[0m\u001b[0mset_side1\u001b[0m\u001b[0;34m(\u001b[0m\u001b[0;36m5\u001b[0m\u001b[0;34m)\u001b[0m\u001b[0;34m\u001b[0m\u001b[0;34m\u001b[0m\u001b[0m\n\u001b[0m\u001b[1;32m      6\u001b[0m \u001b[0mmath\u001b[0m\u001b[0;34m.\u001b[0m\u001b[0mset_side2\u001b[0m\u001b[0;34m(\u001b[0m\u001b[0;36m5\u001b[0m\u001b[0;34m)\u001b[0m\u001b[0;34m\u001b[0m\u001b[0;34m\u001b[0m\u001b[0m\n",
            "\u001b[0;31mAttributeError\u001b[0m: 'Rectangle' object has no attribute 'set_side1'"
          ]
        }
      ]
    },
    {
      "cell_type": "code",
      "source": [],
      "metadata": {
        "id": "I4HRi6S6CbhI"
      },
      "execution_count": null,
      "outputs": []
    }
  ]
}